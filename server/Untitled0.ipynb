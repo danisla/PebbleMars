{
 "metadata": {
  "name": "",
  "signature": "sha256:e352210fde4f7de846d731c7cdd36a90b45ea38b733efb2ecbdc8aa12f0e6c99"
 },
 "nbformat": 3,
 "nbformat_minor": 0,
 "worksheets": [
  {
   "cells": [
    {
     "cell_type": "code",
     "collapsed": false,
     "input": [
      "import de421\n",
      "from jplephem import Ephemeris\n",
      "import math\n",
      "import time\n",
      "from novas import compat as novas\n",
      "\n",
      "KM_to_AU = 6.68458712e-9\n",
      "AU_SEC = 499.0047838061"
     ],
     "language": "python",
     "metadata": {},
     "outputs": [],
     "prompt_number": 31
    },
    {
     "cell_type": "code",
     "collapsed": false,
     "input": [
      "def dist(x,y=None,z=None):\n",
      "  if y is None:\n",
      "    x,y,z = x[0][0], x[1][0], x[2][0]\n",
      "  return math.sqrt(pow(x,2) + pow(y,2) + pow(z,2))"
     ],
     "language": "python",
     "metadata": {},
     "outputs": [],
     "prompt_number": 30
    },
    {
     "cell_type": "code",
     "collapsed": false,
     "input": [
      "utc_time = time.gmtime()\n",
      "jd_tt = novas.julian_date(utc_time.tm_year, utc_time.tm_mon, utc_time.tm_mday, utc_time.tm_hour)\n",
      "print \"Now J2000: \",jd_tt\n",
      "\n",
      "mars = Ephemeris(de421).position('mars',jd_tt)\n",
      "earth = Ephemeris(de421).position('earthmoon',jd_tt)\n",
      "print dist(mars) * KM_to_AU\n",
      "print dist(mars) * KM_to_AU * AU_SEC\n",
      "print dist(earth) * KM_to_AU * AU_SEC\n",
      "\n",
      "\n",
      "\n"
     ],
     "language": "python",
     "metadata": {},
     "outputs": [
      {
       "output_type": "stream",
       "stream": "stdout",
       "text": [
        "Now J2000:  2456934.41667\n",
        "1.4164127859\n",
        "706.796756007\n",
        "500.338407563\n"
       ]
      }
     ],
     "prompt_number": 35
    }
   ],
   "metadata": {}
  }
 ]
}